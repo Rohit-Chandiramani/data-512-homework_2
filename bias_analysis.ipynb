{
 "cells": [
  {
   "cell_type": "markdown",
   "metadata": {},
   "source": [
    "### Importing necessary modules and libraries"
   ]
  },
  {
   "cell_type": "code",
   "execution_count": 2,
   "metadata": {},
   "outputs": [],
   "source": [
    "from apikeys.KeyManager import KeyManager\n",
    "import pandas as pd\n",
    "import requests\n",
    "import time\n",
    "import json"
   ]
  },
  {
   "cell_type": "markdown",
   "metadata": {},
   "source": [
    "### Read the data files for politicians and population"
   ]
  },
  {
   "cell_type": "code",
   "execution_count": 229,
   "metadata": {},
   "outputs": [],
   "source": [
    "politicians_data = pd.read_csv(\"./politicians_by_country_AUG.2024.csv\")\n",
    "population_data = pd.read_csv(\"./population_by_country_AUG.2024.csv\")\n"
   ]
  },
  {
   "cell_type": "markdown",
   "metadata": {},
   "source": [
    "### Defining constants to be used in the API calls to Wikimedia and ORES"
   ]
  },
  {
   "cell_type": "code",
   "execution_count": 83,
   "metadata": {},
   "outputs": [],
   "source": [
    "# The basic English Wikipedia API endpoint\n",
    "API_ENWIKIPEDIA_ENDPOINT = \"https://en.wikipedia.org/w/api.php\"\n",
    "API_HEADER_AGENT = 'User-Agent'\n",
    "\n",
    "# We'll assume that there needs to be some throttling for these requests - we should always be nice to a free data resource\n",
    "API_THROTTLE_WAIT = 0.1\n",
    "\n",
    "# When making automated requests we should include something that is unique to the person making the request\n",
    "# This should include an email - your UW email would be good to put in there\n",
    "REQUEST_HEADERS = {\n",
    "    'User-Agent': 'rohitch@uw.edu, University of Washington, MSDS DATA 512 - AUTUMN 2024'\n",
    "}\n",
    "\n",
    "# This is just a list of English Wikipedia article titles that we can use for example requests\n",
    "ARTICLE_TITLES = politicians_data['name']\n",
    "\n",
    "# This is a string of additional page properties that can be returned see the Info documentation for\n",
    "# what can be included. If you don't want any this can simply be the empty string\n",
    "PAGEINFO_EXTENDED_PROPERTIES = \"talkid|url|watched|watchers\"\n",
    "#PAGEINFO_EXTENDED_PROPERTIES = \"\"\n",
    "\n",
    "# This template lists the basic parameters for making this\n",
    "PAGEINFO_PARAMS_TEMPLATE = {\n",
    "    \"action\": \"query\",\n",
    "    \"format\": \"json\",\n",
    "    \"titles\": \"\",           # to simplify this should be a single page title at a time\n",
    "    \"prop\": \"info\",\n",
    "    \"inprop\": PAGEINFO_EXTENDED_PROPERTIES\n",
    "}\n",
    "\n",
    "\n",
    "\n",
    "#    The current LiftWing ORES API endpoint and prediction model\n",
    "#\n",
    "API_ORES_LIFTWING_ENDPOINT = \"https://api.wikimedia.org/service/lw/inference/v1/models/{model_name}:predict\"\n",
    "API_ORES_EN_QUALITY_MODEL = \"enwiki-articlequality\"\n",
    "\n",
    "#\n",
    "#    The throttling rate is a function of the Access token that you are granted when you request the token. The constants\n",
    "#    come from dissecting the token and getting the rate limits from the granted token. An example of that is below.\n",
    "#\n",
    "API_THROTTLE_WAIT = 0.1\n",
    "\n",
    "#    When making automated requests we should include something that is unique to the person making the request\n",
    "#    This should include an email - your UW email would be good to put in there\n",
    "#    \n",
    "#    Because all LiftWing API requests require some form of authentication, you need to provide your access token\n",
    "#    as part of the header too\n",
    "#\n",
    "REQUEST_HEADER_TEMPLATE = {\n",
    "    'User-Agent': \"<rohitch@uw.edu>, University of Washington, MSDS DATA 512 - AUTUMN 2024\",\n",
    "    'Content-Type': 'application/json',\n",
    "    'Authorization': \"Bearer {access_token}\"\n",
    "}\n",
    "#\n",
    "#    This is a template for the parameters that we need to supply in the headers of an API request\n",
    "#\n",
    "REQUEST_HEADER_PARAMS_TEMPLATE = {\n",
    "    'email_address' : \"\",         # your email address should go here\n",
    "    'access_token'  : \"\"          # the access token you create will need to go here\n",
    "}\n",
    "\n",
    "#\n",
    "#    This is a template of the data required as a payload when making a scoring request of the ORES model\n",
    "#\n",
    "ORES_REQUEST_DATA_TEMPLATE = {\n",
    "    \"lang\":        \"en\",     # required that its english - we're scoring English Wikipedia revisions\n",
    "    \"rev_id\":      \"\",       # this request requires a revision id\n",
    "    \"features\":    True\n",
    "}\n"
   ]
  },
  {
   "cell_type": "markdown",
   "metadata": {},
   "source": [
    "### Reading ORES API access token from Key Manager"
   ]
  },
  {
   "cell_type": "code",
   "execution_count": 84,
   "metadata": {},
   "outputs": [],
   "source": [
    "keyman = KeyManager()\n",
    "WIKIMEDIA_USERNAME = \"Rohitraju3010\"\n",
    "key_info = keyman.findRecord(domain=\"api.wikimedia.org\")\n",
    "ACCESS_TOKEN = key_info[0]['key']"
   ]
  },
  {
   "cell_type": "markdown",
   "metadata": {},
   "source": [
    "### Defining functions for requesting ores score per article, request page info per article"
   ]
  },
  {
   "cell_type": "code",
   "execution_count": 85,
   "metadata": {},
   "outputs": [],
   "source": [
    "# function to call the wikimedia API and return the pageinfo for the article\n",
    "def request_pageinfo_per_article(article_title = None, \n",
    "                                 endpoint_url = API_ENWIKIPEDIA_ENDPOINT, \n",
    "                                 request_template = PAGEINFO_PARAMS_TEMPLATE,\n",
    "                                 headers = REQUEST_HEADERS):\n",
    "    \n",
    "    # article title can be as a parameter to the call or in the request_template\n",
    "    if article_title:\n",
    "        request_template['titles'] = article_title\n",
    "\n",
    "    if not request_template['titles']:\n",
    "        raise Exception(\"Must supply an article title to make a pageinfo request.\")\n",
    "\n",
    "    if API_HEADER_AGENT not in headers:\n",
    "        raise Exception(f\"The header data should include a '{API_HEADER_AGENT}' field that contains your UW email address.\")\n",
    "\n",
    "    if 'rohitch@uw' not in headers[API_HEADER_AGENT]:\n",
    "        raise Exception(f\"Use your UW email address in the '{API_HEADER_AGENT}' field.\")\n",
    "\n",
    "    # make the request\n",
    "    try:\n",
    "        # we'll wait first, to make sure we don't exceed the limit in the situation where an exception\n",
    "        # occurs during the request processing - throttling is always a good practice with a free\n",
    "        # data source like Wikipedia - or any other community sources\n",
    "        if API_THROTTLE_WAIT > 0.0:\n",
    "            time.sleep(API_THROTTLE_WAIT)\n",
    "        response = requests.get(endpoint_url, headers=headers, params=request_template)\n",
    "        json_response = response.json()\n",
    "    except Exception as e:\n",
    "        print(e)\n",
    "        json_response = None\n",
    "    return json_response\n"
   ]
  },
  {
   "cell_type": "code",
   "execution_count": 86,
   "metadata": {},
   "outputs": [],
   "source": [
    "def request_ores_score_per_article(article_revid = None, email_address=None, access_token=None,\n",
    "                                   endpoint_url = API_ORES_LIFTWING_ENDPOINT, \n",
    "                                   model_name = API_ORES_EN_QUALITY_MODEL, \n",
    "                                   request_data = ORES_REQUEST_DATA_TEMPLATE, \n",
    "                                   header_format = REQUEST_HEADER_TEMPLATE, \n",
    "                                   header_params = REQUEST_HEADER_PARAMS_TEMPLATE):\n",
    "    \n",
    "    #    Make sure we have an article revision id, email and token\n",
    "    #    This approach prioritizes the parameters passed in when making the call\n",
    "    if article_revid:\n",
    "        request_data['rev_id'] = article_revid\n",
    "    if email_address:\n",
    "        header_params['email_address'] = email_address\n",
    "    if access_token:\n",
    "        header_params['access_token'] = access_token\n",
    "    \n",
    "    #   Making a request requires a revision id - an email address - and the access token\n",
    "    if not request_data['rev_id']:\n",
    "        raise Exception(\"Must provide an article revision id (rev_id) to score articles\")\n",
    "    if not header_params['email_address']:\n",
    "        raise Exception(\"Must provide an 'email_address' value\")\n",
    "    if not header_params['access_token']:\n",
    "        raise Exception(\"Must provide an 'access_token' value\")\n",
    "    \n",
    "    # Create the request URL with the specified model parameter - default is a article quality score request\n",
    "    request_url = endpoint_url.format(model_name=model_name)\n",
    "    \n",
    "    # Create a compliant request header from the template and the supplied parameters\n",
    "    headers = dict()\n",
    "    for key in header_format.keys():\n",
    "        headers[str(key)] = header_format[key].format(**header_params)\n",
    "    \n",
    "    # make the request\n",
    "    try:\n",
    "        # we'll wait first, to make sure we don't exceed the limit in the situation where an exception\n",
    "        # occurs during the request processing - throttling is always a good practice with a free data\n",
    "        # source like ORES - or other community sources\n",
    "        if API_THROTTLE_WAIT > 0.0:\n",
    "            time.sleep(API_THROTTLE_WAIT)\n",
    "        #response = requests.get(request_url, headers=headers)\n",
    "        response = requests.post(request_url, headers=headers, data=json.dumps(request_data))\n",
    "        json_response = response.json()\n",
    "    except Exception as e:\n",
    "        print(e)\n",
    "        json_response = None\n",
    "    return json_response"
   ]
  },
  {
   "cell_type": "markdown",
   "metadata": {},
   "source": [
    "### Data acquistion - getting revision id and article quality for all articles"
   ]
  },
  {
   "cell_type": "code",
   "execution_count": null,
   "metadata": {},
   "outputs": [],
   "source": [
    "#Request headers\n",
    "hparams = REQUEST_HEADER_PARAMS_TEMPLATE.copy()\n",
    "hparams['email_address'] = \"rohitch@uw.edu\"\n",
    "hparams['access_token'] = ACCESS_TOKEN\n",
    "\n",
    "#Request payload\n",
    "rd = ORES_REQUEST_DATA_TEMPLATE.copy()\n",
    "\n",
    "scores = []\n",
    "rev_ids = []\n",
    "rev_id_not_found_titles = []\n",
    "score_not_found_titles = []\n",
    "\n",
    "for i, title in enumerate(ARTICLE_TITLES):\n",
    "    response = request_pageinfo_per_article(\n",
    "        article_title = title,\n",
    "    )\n",
    "    try:\n",
    "        rev_id = response['query']['pages'][list(response['query']['pages'].keys())[0]]['lastrevid']\n",
    "        rev_ids.append(rev_id)\n",
    "    except Exception as e:\n",
    "        rev_id_not_found_titles.append(title)\n",
    "        rev_ids.append(\"\")\n",
    "        scores.append(\"\")\n",
    "        continue\n",
    "\n",
    "    if rev_id:\n",
    "        rd['rev_id'] = rev_id\n",
    "    \n",
    "    try:\n",
    "        score_response = request_ores_score_per_article(request_data=rd,\n",
    "                                       header_params=hparams)\n",
    "        score = score_response[\"enwiki\"][\"scores\"][str(rev_id)]['articlequality']['score']['prediction']\n",
    "        scores.append(score)\n",
    "    except Exception as e :\n",
    "        score_not_found_titles.append(title)\n",
    "        scores.append(\"\")\n",
    "        continue"
   ]
  },
  {
   "cell_type": "markdown",
   "metadata": {},
   "source": [
    "### Error rate and titles"
   ]
  },
  {
   "cell_type": "code",
   "execution_count": 99,
   "metadata": {},
   "outputs": [
    {
     "data": {
      "text/plain": [
       "['Barbara Eibinger-Miedl',\n",
       " 'Mehrali Gasimov',\n",
       " 'Kyaw Myint',\n",
       " 'André Ngongang Ouandji',\n",
       " 'Tomás Pimentel',\n",
       " 'Richard Sumah',\n",
       " \"Segun ''Aeroland'' Adewale\",\n",
       " 'Bashir Bililiqo']"
      ]
     },
     "execution_count": 99,
     "metadata": {},
     "output_type": "execute_result"
    }
   ],
   "source": [
    "rev_id_not_found_titles"
   ]
  },
  {
   "cell_type": "code",
   "execution_count": 101,
   "metadata": {},
   "outputs": [
    {
     "data": {
      "text/plain": [
       "['Carlos Eduardo Moreira Ferreira']"
      ]
     },
     "execution_count": 101,
     "metadata": {},
     "output_type": "execute_result"
    }
   ],
   "source": [
    "score_not_found_titles"
   ]
  },
  {
   "cell_type": "code",
   "execution_count": 103,
   "metadata": {},
   "outputs": [
    {
     "name": "stdout",
     "output_type": "stream",
     "text": [
      "The error rate of articles is 0.12578616352201258 %\n"
     ]
    }
   ],
   "source": [
    "print(f\"The error rate of articles is {(len(rev_id_not_found_titles)+len(score_not_found_titles))/len(ARTICLE_TITLES)*100} %\")"
   ]
  },
  {
   "cell_type": "markdown",
   "metadata": {},
   "source": [
    "### Create a country, region and population mapping"
   ]
  },
  {
   "cell_type": "code",
   "execution_count": 230,
   "metadata": {},
   "outputs": [],
   "source": [
    "region = None\n",
    "country_region_pop_list = []\n",
    "\n",
    "# Iterate over each row in the DataFrame\n",
    "for index, row in population_data.iterrows():\n",
    "    geography = row['Geography']\n",
    "    population = row['Population']\n",
    "\n",
    "    if geography.isupper():\n",
    "        region = geography\n",
    "    else:\n",
    "        country_region_pop_list.append({'country': geography, 'region': region, 'population': float(population)})\n",
    "\n",
    "country_region_pop = pd.DataFrame(country_region_pop_list)"
   ]
  },
  {
   "cell_type": "markdown",
   "metadata": {},
   "source": [
    "### Combining the population and politician article datasets"
   ]
  },
  {
   "cell_type": "code",
   "execution_count": 232,
   "metadata": {},
   "outputs": [],
   "source": [
    "politicians_data['article_quality'] = scores\n",
    "politicians_data['revision_id'] = rev_ids"
   ]
  },
  {
   "cell_type": "markdown",
   "metadata": {},
   "source": [
    "### Note:\n",
    "In the politicians dataset, The Koreas are split as **'Korean, South'** and **'Korean'** (assuming the latter is North as there is an explicit category for South). \n",
    "In the populations dataset, they are split as **'Korea (North)'**,**'Korea (South)'**\n",
    "\n",
    "Semantically, these labels refer to 2 countries, hence renaming them with unified labels so as to avoid loss of data while merging.\n",
    "\n",
    "Similar issue with name is for **'Guinea-Bissau'** and **'GuineaBissau'**"
   ]
  },
  {
   "cell_type": "code",
   "execution_count": 238,
   "metadata": {},
   "outputs": [],
   "source": [
    "politicians_data['country'] = politicians_data['country'].replace('Korea, South', 'Korea (South)')\n",
    "politicians_data['country'] = politicians_data['country'].replace('Korean', 'Korea (North)')\n",
    "politicians_data['country'] = politicians_data['country'].replace('Guinea-Bissau', 'GuineaBissau')"
   ]
  },
  {
   "cell_type": "code",
   "execution_count": 245,
   "metadata": {},
   "outputs": [],
   "source": [
    "merged_article_data_outer = pd.merge(politicians_data, country_region_pop, how='outer', on='country')"
   ]
  },
  {
   "cell_type": "markdown",
   "metadata": {},
   "source": [
    "### Finding countries with mismatch in article quality and population data"
   ]
  },
  {
   "cell_type": "code",
   "execution_count": 248,
   "metadata": {},
   "outputs": [
    {
     "data": {
      "text/plain": [
       "array(['Western Sahara', 'Mauritius', 'Mayotte', 'Reunion',\n",
       "       'Sao Tome and Principe', 'eSwatini', 'Canada', 'United States',\n",
       "       'Mexico', 'Curacao', 'Dominica', 'Guadeloupe', 'Jamaica',\n",
       "       'Martinique', 'Puerto Rico', 'French Guiana', 'Suriname',\n",
       "       'Georgia', 'Brunei', 'Philippines', 'China (Hong Kong SAR)',\n",
       "       'China (Macao SAR)', 'Denmark', 'Iceland', 'Ireland',\n",
       "       'United Kingdom', 'Liechtenstein', 'Netherlands', 'Romania',\n",
       "       'Andorra', 'San Marino', 'Australia', 'Fiji', 'French Polynesia',\n",
       "       'Guam', 'Kiribati', 'Nauru', 'New Caledonia', 'New Zealand',\n",
       "       'Palau'], dtype=object)"
      ]
     },
     "execution_count": 248,
     "metadata": {},
     "output_type": "execute_result"
    }
   ],
   "source": [
    "merged_article_data_outer[merged_article_data_outer.isnull().any(axis=1)]['country'].unique()"
   ]
  },
  {
   "cell_type": "code",
   "execution_count": 251,
   "metadata": {},
   "outputs": [
    {
     "name": "stderr",
     "output_type": "stream",
     "text": [
      "C:\\Users\\Rohit\\AppData\\Local\\Temp\\ipykernel_25228\\110080991.py:2: SettingWithCopyWarning: \n",
      "A value is trying to be set on a copy of a slice from a DataFrame\n",
      "\n",
      "See the caveats in the documentation: https://pandas.pydata.org/pandas-docs/stable/user_guide/indexing.html#returning-a-view-versus-a-copy\n",
      "  cleaned_df.rename(columns={'name': 'article_title'}, inplace=True)\n"
     ]
    }
   ],
   "source": [
    "cleaned_df = merged_article_data_outer[~merged_article_data_outer.isnull().any(axis=1)]\n",
    "cleaned_df.rename(columns={'name': 'article_title'}, inplace=True)"
   ]
  },
  {
   "cell_type": "code",
   "execution_count": 253,
   "metadata": {},
   "outputs": [],
   "source": [
    "cleaned_df.to_csv(\"wp_politicians_by_country.csv\")"
   ]
  },
  {
   "cell_type": "markdown",
   "metadata": {},
   "source": [
    "### Top and bottom countries by coverage"
   ]
  },
  {
   "cell_type": "code",
   "execution_count": 280,
   "metadata": {},
   "outputs": [],
   "source": [
    "article_counts = cleaned_df.groupby(\"country\").size().reset_index(name = \"article_counts\")\n",
    "population_cleaned = cleaned_df[['country', 'population']].drop_duplicates()\n",
    "article_counts_by_country = pd.merge(article_counts, population_cleaned, on='country')\n",
    "article_counts_by_country['total_articles_per_capita (million people)'] = article_counts_by_country['article_counts'] / article_counts_by_country['population']"
   ]
  },
  {
   "cell_type": "code",
   "execution_count": 281,
   "metadata": {},
   "outputs": [
    {
     "data": {
      "text/html": [
       "<div>\n",
       "<style scoped>\n",
       "    .dataframe tbody tr th:only-of-type {\n",
       "        vertical-align: middle;\n",
       "    }\n",
       "\n",
       "    .dataframe tbody tr th {\n",
       "        vertical-align: top;\n",
       "    }\n",
       "\n",
       "    .dataframe thead th {\n",
       "        text-align: right;\n",
       "    }\n",
       "</style>\n",
       "<table border=\"1\" class=\"dataframe\">\n",
       "  <thead>\n",
       "    <tr style=\"text-align: right;\">\n",
       "      <th></th>\n",
       "      <th>country</th>\n",
       "      <th>article_counts</th>\n",
       "      <th>population</th>\n",
       "      <th>total_articles_per_capita (million people)</th>\n",
       "    </tr>\n",
       "  </thead>\n",
       "  <tbody>\n",
       "    <tr>\n",
       "      <th>157</th>\n",
       "      <td>Tuvalu</td>\n",
       "      <td>1</td>\n",
       "      <td>0.0</td>\n",
       "      <td>inf</td>\n",
       "    </tr>\n",
       "    <tr>\n",
       "      <th>99</th>\n",
       "      <td>Monaco</td>\n",
       "      <td>10</td>\n",
       "      <td>0.0</td>\n",
       "      <td>inf</td>\n",
       "    </tr>\n",
       "    <tr>\n",
       "      <th>4</th>\n",
       "      <td>Antigua and Barbuda</td>\n",
       "      <td>33</td>\n",
       "      <td>0.1</td>\n",
       "      <td>330.000000</td>\n",
       "    </tr>\n",
       "    <tr>\n",
       "      <th>51</th>\n",
       "      <td>Federated States of Micronesia</td>\n",
       "      <td>14</td>\n",
       "      <td>0.1</td>\n",
       "      <td>140.000000</td>\n",
       "    </tr>\n",
       "    <tr>\n",
       "      <th>96</th>\n",
       "      <td>Marshall Islands</td>\n",
       "      <td>13</td>\n",
       "      <td>0.1</td>\n",
       "      <td>130.000000</td>\n",
       "    </tr>\n",
       "    <tr>\n",
       "      <th>152</th>\n",
       "      <td>Tonga</td>\n",
       "      <td>10</td>\n",
       "      <td>0.1</td>\n",
       "      <td>100.000000</td>\n",
       "    </tr>\n",
       "    <tr>\n",
       "      <th>12</th>\n",
       "      <td>Barbados</td>\n",
       "      <td>25</td>\n",
       "      <td>0.3</td>\n",
       "      <td>83.333333</td>\n",
       "    </tr>\n",
       "    <tr>\n",
       "      <th>128</th>\n",
       "      <td>Seychelles</td>\n",
       "      <td>6</td>\n",
       "      <td>0.1</td>\n",
       "      <td>60.000000</td>\n",
       "    </tr>\n",
       "    <tr>\n",
       "      <th>101</th>\n",
       "      <td>Montenegro</td>\n",
       "      <td>36</td>\n",
       "      <td>0.6</td>\n",
       "      <td>60.000000</td>\n",
       "    </tr>\n",
       "    <tr>\n",
       "      <th>17</th>\n",
       "      <td>Bhutan</td>\n",
       "      <td>44</td>\n",
       "      <td>0.8</td>\n",
       "      <td>55.000000</td>\n",
       "    </tr>\n",
       "    <tr>\n",
       "      <th>93</th>\n",
       "      <td>Maldives</td>\n",
       "      <td>33</td>\n",
       "      <td>0.6</td>\n",
       "      <td>55.000000</td>\n",
       "    </tr>\n",
       "    <tr>\n",
       "      <th>124</th>\n",
       "      <td>Samoa</td>\n",
       "      <td>8</td>\n",
       "      <td>0.2</td>\n",
       "      <td>40.000000</td>\n",
       "    </tr>\n",
       "  </tbody>\n",
       "</table>\n",
       "</div>"
      ],
      "text/plain": [
       "                            country  article_counts  population  \\\n",
       "157                          Tuvalu               1         0.0   \n",
       "99                           Monaco              10         0.0   \n",
       "4               Antigua and Barbuda              33         0.1   \n",
       "51   Federated States of Micronesia              14         0.1   \n",
       "96                 Marshall Islands              13         0.1   \n",
       "152                           Tonga              10         0.1   \n",
       "12                         Barbados              25         0.3   \n",
       "128                      Seychelles               6         0.1   \n",
       "101                      Montenegro              36         0.6   \n",
       "17                           Bhutan              44         0.8   \n",
       "93                         Maldives              33         0.6   \n",
       "124                           Samoa               8         0.2   \n",
       "\n",
       "     total_articles_per_capita (million people)  \n",
       "157                                         inf  \n",
       "99                                          inf  \n",
       "4                                    330.000000  \n",
       "51                                   140.000000  \n",
       "96                                   130.000000  \n",
       "152                                  100.000000  \n",
       "12                                    83.333333  \n",
       "128                                   60.000000  \n",
       "101                                   60.000000  \n",
       "17                                    55.000000  \n",
       "93                                    55.000000  \n",
       "124                                   40.000000  "
      ]
     },
     "execution_count": 281,
     "metadata": {},
     "output_type": "execute_result"
    }
   ],
   "source": [
    "top_10_countries_by_coverage = article_counts_by_country.sort_values(by='total_articles_per_capita (million people)', ascending=False).head(12)\n",
    "top_10_countries_by_coverage"
   ]
  },
  {
   "cell_type": "code",
   "execution_count": 282,
   "metadata": {},
   "outputs": [
    {
     "data": {
      "text/html": [
       "<div>\n",
       "<style scoped>\n",
       "    .dataframe tbody tr th:only-of-type {\n",
       "        vertical-align: middle;\n",
       "    }\n",
       "\n",
       "    .dataframe tbody tr th {\n",
       "        vertical-align: top;\n",
       "    }\n",
       "\n",
       "    .dataframe thead th {\n",
       "        text-align: right;\n",
       "    }\n",
       "</style>\n",
       "<table border=\"1\" class=\"dataframe\">\n",
       "  <thead>\n",
       "    <tr style=\"text-align: right;\">\n",
       "      <th></th>\n",
       "      <th>country</th>\n",
       "      <th>article_counts</th>\n",
       "      <th>population</th>\n",
       "      <th>total_articles_per_capita (million people)</th>\n",
       "    </tr>\n",
       "  </thead>\n",
       "  <tbody>\n",
       "    <tr>\n",
       "      <th>31</th>\n",
       "      <td>China</td>\n",
       "      <td>16</td>\n",
       "      <td>1411.3</td>\n",
       "      <td>0.011337</td>\n",
       "    </tr>\n",
       "    <tr>\n",
       "      <th>67</th>\n",
       "      <td>India</td>\n",
       "      <td>151</td>\n",
       "      <td>1428.6</td>\n",
       "      <td>0.105698</td>\n",
       "    </tr>\n",
       "    <tr>\n",
       "      <th>57</th>\n",
       "      <td>Ghana</td>\n",
       "      <td>4</td>\n",
       "      <td>34.1</td>\n",
       "      <td>0.117302</td>\n",
       "    </tr>\n",
       "    <tr>\n",
       "      <th>125</th>\n",
       "      <td>Saudi Arabia</td>\n",
       "      <td>5</td>\n",
       "      <td>36.9</td>\n",
       "      <td>0.135501</td>\n",
       "    </tr>\n",
       "    <tr>\n",
       "      <th>167</th>\n",
       "      <td>Zambia</td>\n",
       "      <td>3</td>\n",
       "      <td>20.2</td>\n",
       "      <td>0.148515</td>\n",
       "    </tr>\n",
       "    <tr>\n",
       "      <th>111</th>\n",
       "      <td>Norway</td>\n",
       "      <td>1</td>\n",
       "      <td>5.5</td>\n",
       "      <td>0.181818</td>\n",
       "    </tr>\n",
       "    <tr>\n",
       "      <th>71</th>\n",
       "      <td>Israel</td>\n",
       "      <td>2</td>\n",
       "      <td>9.8</td>\n",
       "      <td>0.204082</td>\n",
       "    </tr>\n",
       "    <tr>\n",
       "      <th>45</th>\n",
       "      <td>Egypt</td>\n",
       "      <td>32</td>\n",
       "      <td>105.2</td>\n",
       "      <td>0.304183</td>\n",
       "    </tr>\n",
       "    <tr>\n",
       "      <th>37</th>\n",
       "      <td>Cote d'Ivoire</td>\n",
       "      <td>10</td>\n",
       "      <td>30.9</td>\n",
       "      <td>0.323625</td>\n",
       "    </tr>\n",
       "    <tr>\n",
       "      <th>50</th>\n",
       "      <td>Ethiopia</td>\n",
       "      <td>44</td>\n",
       "      <td>126.5</td>\n",
       "      <td>0.347826</td>\n",
       "    </tr>\n",
       "  </tbody>\n",
       "</table>\n",
       "</div>"
      ],
      "text/plain": [
       "           country  article_counts  population  \\\n",
       "31           China              16      1411.3   \n",
       "67           India             151      1428.6   \n",
       "57           Ghana               4        34.1   \n",
       "125   Saudi Arabia               5        36.9   \n",
       "167         Zambia               3        20.2   \n",
       "111         Norway               1         5.5   \n",
       "71          Israel               2         9.8   \n",
       "45           Egypt              32       105.2   \n",
       "37   Cote d'Ivoire              10        30.9   \n",
       "50        Ethiopia              44       126.5   \n",
       "\n",
       "     total_articles_per_capita (million people)  \n",
       "31                                     0.011337  \n",
       "67                                     0.105698  \n",
       "57                                     0.117302  \n",
       "125                                    0.135501  \n",
       "167                                    0.148515  \n",
       "111                                    0.181818  \n",
       "71                                     0.204082  \n",
       "45                                     0.304183  \n",
       "37                                     0.323625  \n",
       "50                                     0.347826  "
      ]
     },
     "execution_count": 282,
     "metadata": {},
     "output_type": "execute_result"
    }
   ],
   "source": [
    "bottom_10_countries_by_coverage = article_counts_by_country.sort_values(by='total_articles_per_capita (million people)', ascending=True).head(10)\n",
    "bottom_10_countries_by_coverage"
   ]
  },
  {
   "cell_type": "markdown",
   "metadata": {},
   "source": [
    "### Top and bottom countries by high-quality articles"
   ]
  },
  {
   "cell_type": "code",
   "execution_count": 283,
   "metadata": {},
   "outputs": [],
   "source": [
    "hq_article_counts = cleaned_df[cleaned_df['article_quality'].isin(['FA', 'GA'])].groupby(\"country\").size().reset_index(name = \"high_quality_article_counts\")\n",
    "hq_article_counts_by_country = pd.merge(hq_article_counts, population_cleaned, on='country')\n",
    "hq_article_counts_by_country['high_quality_articles_per_capita (million people)'] = hq_article_counts_by_country['high_quality_article_counts'] / hq_article_counts_by_country['population']"
   ]
  },
  {
   "cell_type": "code",
   "execution_count": 285,
   "metadata": {},
   "outputs": [
    {
     "data": {
      "text/html": [
       "<div>\n",
       "<style scoped>\n",
       "    .dataframe tbody tr th:only-of-type {\n",
       "        vertical-align: middle;\n",
       "    }\n",
       "\n",
       "    .dataframe tbody tr th {\n",
       "        vertical-align: top;\n",
       "    }\n",
       "\n",
       "    .dataframe thead th {\n",
       "        text-align: right;\n",
       "    }\n",
       "</style>\n",
       "<table border=\"1\" class=\"dataframe\">\n",
       "  <thead>\n",
       "    <tr style=\"text-align: right;\">\n",
       "      <th></th>\n",
       "      <th>country</th>\n",
       "      <th>high_quality_article_counts</th>\n",
       "      <th>population</th>\n",
       "      <th>high_quality_articles_per_capita (million people)</th>\n",
       "    </tr>\n",
       "  </thead>\n",
       "  <tbody>\n",
       "    <tr>\n",
       "      <th>65</th>\n",
       "      <td>Montenegro</td>\n",
       "      <td>3</td>\n",
       "      <td>0.6</td>\n",
       "      <td>5.000000</td>\n",
       "    </tr>\n",
       "    <tr>\n",
       "      <th>58</th>\n",
       "      <td>Luxembourg</td>\n",
       "      <td>2</td>\n",
       "      <td>0.7</td>\n",
       "      <td>2.857143</td>\n",
       "    </tr>\n",
       "    <tr>\n",
       "      <th>1</th>\n",
       "      <td>Albania</td>\n",
       "      <td>7</td>\n",
       "      <td>2.7</td>\n",
       "      <td>2.592593</td>\n",
       "    </tr>\n",
       "    <tr>\n",
       "      <th>52</th>\n",
       "      <td>Kosovo</td>\n",
       "      <td>4</td>\n",
       "      <td>1.7</td>\n",
       "      <td>2.352941</td>\n",
       "    </tr>\n",
       "    <tr>\n",
       "      <th>60</th>\n",
       "      <td>Maldives</td>\n",
       "      <td>1</td>\n",
       "      <td>0.6</td>\n",
       "      <td>1.666667</td>\n",
       "    </tr>\n",
       "    <tr>\n",
       "      <th>57</th>\n",
       "      <td>Lithuania</td>\n",
       "      <td>4</td>\n",
       "      <td>2.9</td>\n",
       "      <td>1.379310</td>\n",
       "    </tr>\n",
       "    <tr>\n",
       "      <th>25</th>\n",
       "      <td>Croatia</td>\n",
       "      <td>5</td>\n",
       "      <td>3.8</td>\n",
       "      <td>1.315789</td>\n",
       "    </tr>\n",
       "    <tr>\n",
       "      <th>40</th>\n",
       "      <td>Guyana</td>\n",
       "      <td>1</td>\n",
       "      <td>0.8</td>\n",
       "      <td>1.250000</td>\n",
       "    </tr>\n",
       "    <tr>\n",
       "      <th>72</th>\n",
       "      <td>Palestinian Territory</td>\n",
       "      <td>6</td>\n",
       "      <td>5.5</td>\n",
       "      <td>1.090909</td>\n",
       "    </tr>\n",
       "    <tr>\n",
       "      <th>83</th>\n",
       "      <td>Slovenia</td>\n",
       "      <td>2</td>\n",
       "      <td>2.1</td>\n",
       "      <td>0.952381</td>\n",
       "    </tr>\n",
       "  </tbody>\n",
       "</table>\n",
       "</div>"
      ],
      "text/plain": [
       "                  country  high_quality_article_counts  population  \\\n",
       "65             Montenegro                            3         0.6   \n",
       "58             Luxembourg                            2         0.7   \n",
       "1                 Albania                            7         2.7   \n",
       "52                 Kosovo                            4         1.7   \n",
       "60               Maldives                            1         0.6   \n",
       "57              Lithuania                            4         2.9   \n",
       "25                Croatia                            5         3.8   \n",
       "40                 Guyana                            1         0.8   \n",
       "72  Palestinian Territory                            6         5.5   \n",
       "83               Slovenia                            2         2.1   \n",
       "\n",
       "    high_quality_articles_per_capita (million people)  \n",
       "65                                           5.000000  \n",
       "58                                           2.857143  \n",
       "1                                            2.592593  \n",
       "52                                           2.352941  \n",
       "60                                           1.666667  \n",
       "57                                           1.379310  \n",
       "25                                           1.315789  \n",
       "40                                           1.250000  \n",
       "72                                           1.090909  \n",
       "83                                           0.952381  "
      ]
     },
     "execution_count": 285,
     "metadata": {},
     "output_type": "execute_result"
    }
   ],
   "source": [
    "top_10_countries_by_hqcount = hq_article_counts_by_country.sort_values(by='high_quality_articles_per_capita (million people)', ascending=False).head(10)\n",
    "top_10_countries_by_hqcount"
   ]
  },
  {
   "cell_type": "markdown",
   "metadata": {},
   "source": [
    "#### **Note:** \n",
    "These are countries for which there is atleast 1 high-quality article. There are many countries which do not have high-quality articles for which the top 10 will not be unique. Hence, analyzed those countries that have atleast one high-quality article"
   ]
  },
  {
   "cell_type": "code",
   "execution_count": 286,
   "metadata": {},
   "outputs": [
    {
     "data": {
      "text/html": [
       "<div>\n",
       "<style scoped>\n",
       "    .dataframe tbody tr th:only-of-type {\n",
       "        vertical-align: middle;\n",
       "    }\n",
       "\n",
       "    .dataframe tbody tr th {\n",
       "        vertical-align: top;\n",
       "    }\n",
       "\n",
       "    .dataframe thead th {\n",
       "        text-align: right;\n",
       "    }\n",
       "</style>\n",
       "<table border=\"1\" class=\"dataframe\">\n",
       "  <thead>\n",
       "    <tr style=\"text-align: right;\">\n",
       "      <th></th>\n",
       "      <th>country</th>\n",
       "      <th>high_quality_article_counts</th>\n",
       "      <th>population</th>\n",
       "      <th>high_quality_articles_per_capita (million people)</th>\n",
       "    </tr>\n",
       "  </thead>\n",
       "  <tbody>\n",
       "    <tr>\n",
       "      <th>9</th>\n",
       "      <td>Bangladesh</td>\n",
       "      <td>1</td>\n",
       "      <td>173.5</td>\n",
       "      <td>0.005764</td>\n",
       "    </tr>\n",
       "    <tr>\n",
       "      <th>29</th>\n",
       "      <td>Egypt</td>\n",
       "      <td>1</td>\n",
       "      <td>105.2</td>\n",
       "      <td>0.009506</td>\n",
       "    </tr>\n",
       "    <tr>\n",
       "      <th>31</th>\n",
       "      <td>Ethiopia</td>\n",
       "      <td>2</td>\n",
       "      <td>126.5</td>\n",
       "      <td>0.015810</td>\n",
       "    </tr>\n",
       "    <tr>\n",
       "      <th>46</th>\n",
       "      <td>Japan</td>\n",
       "      <td>2</td>\n",
       "      <td>124.5</td>\n",
       "      <td>0.016064</td>\n",
       "    </tr>\n",
       "    <tr>\n",
       "      <th>71</th>\n",
       "      <td>Pakistan</td>\n",
       "      <td>4</td>\n",
       "      <td>240.5</td>\n",
       "      <td>0.016632</td>\n",
       "    </tr>\n",
       "    <tr>\n",
       "      <th>22</th>\n",
       "      <td>Colombia</td>\n",
       "      <td>1</td>\n",
       "      <td>52.2</td>\n",
       "      <td>0.019157</td>\n",
       "    </tr>\n",
       "    <tr>\n",
       "      <th>23</th>\n",
       "      <td>Congo DR</td>\n",
       "      <td>2</td>\n",
       "      <td>102.3</td>\n",
       "      <td>0.019550</td>\n",
       "    </tr>\n",
       "    <tr>\n",
       "      <th>102</th>\n",
       "      <td>Vietnam</td>\n",
       "      <td>2</td>\n",
       "      <td>98.9</td>\n",
       "      <td>0.020222</td>\n",
       "    </tr>\n",
       "    <tr>\n",
       "      <th>97</th>\n",
       "      <td>Uganda</td>\n",
       "      <td>1</td>\n",
       "      <td>48.6</td>\n",
       "      <td>0.020576</td>\n",
       "    </tr>\n",
       "    <tr>\n",
       "      <th>2</th>\n",
       "      <td>Algeria</td>\n",
       "      <td>1</td>\n",
       "      <td>46.8</td>\n",
       "      <td>0.021368</td>\n",
       "    </tr>\n",
       "  </tbody>\n",
       "</table>\n",
       "</div>"
      ],
      "text/plain": [
       "        country  high_quality_article_counts  population  \\\n",
       "9    Bangladesh                            1       173.5   \n",
       "29        Egypt                            1       105.2   \n",
       "31     Ethiopia                            2       126.5   \n",
       "46        Japan                            2       124.5   \n",
       "71     Pakistan                            4       240.5   \n",
       "22     Colombia                            1        52.2   \n",
       "23     Congo DR                            2       102.3   \n",
       "102     Vietnam                            2        98.9   \n",
       "97       Uganda                            1        48.6   \n",
       "2       Algeria                            1        46.8   \n",
       "\n",
       "     high_quality_articles_per_capita (million people)  \n",
       "9                                             0.005764  \n",
       "29                                            0.009506  \n",
       "31                                            0.015810  \n",
       "46                                            0.016064  \n",
       "71                                            0.016632  \n",
       "22                                            0.019157  \n",
       "23                                            0.019550  \n",
       "102                                           0.020222  \n",
       "97                                            0.020576  \n",
       "2                                             0.021368  "
      ]
     },
     "execution_count": 286,
     "metadata": {},
     "output_type": "execute_result"
    }
   ],
   "source": [
    "bottom_10_countries_by_hqcount = hq_article_counts_by_country.sort_values(by='high_quality_articles_per_capita (million people)', ascending=True).head(10)\n",
    "bottom_10_countries_by_hqcount"
   ]
  },
  {
   "cell_type": "markdown",
   "metadata": {},
   "source": [
    "#### Subset of 10 (not unique) countries with zero articles of high-quality"
   ]
  },
  {
   "cell_type": "code",
   "execution_count": 321,
   "metadata": {},
   "outputs": [
    {
     "data": {
      "text/html": [
       "<div>\n",
       "<style scoped>\n",
       "    .dataframe tbody tr th:only-of-type {\n",
       "        vertical-align: middle;\n",
       "    }\n",
       "\n",
       "    .dataframe tbody tr th {\n",
       "        vertical-align: top;\n",
       "    }\n",
       "\n",
       "    .dataframe thead th {\n",
       "        text-align: right;\n",
       "    }\n",
       "</style>\n",
       "<table border=\"1\" class=\"dataframe\">\n",
       "  <thead>\n",
       "    <tr style=\"text-align: right;\">\n",
       "      <th></th>\n",
       "      <th>country</th>\n",
       "      <th>zero_high_quality_counts</th>\n",
       "    </tr>\n",
       "  </thead>\n",
       "  <tbody>\n",
       "    <tr>\n",
       "      <th>109</th>\n",
       "      <td>Nigeria</td>\n",
       "      <td>240</td>\n",
       "    </tr>\n",
       "    <tr>\n",
       "      <th>119</th>\n",
       "      <td>Poland</td>\n",
       "      <td>152</td>\n",
       "    </tr>\n",
       "    <tr>\n",
       "      <th>67</th>\n",
       "      <td>India</td>\n",
       "      <td>151</td>\n",
       "    </tr>\n",
       "    <tr>\n",
       "      <th>72</th>\n",
       "      <td>Italy</td>\n",
       "      <td>146</td>\n",
       "    </tr>\n",
       "    <tr>\n",
       "      <th>76</th>\n",
       "      <td>Kenya</td>\n",
       "      <td>122</td>\n",
       "    </tr>\n",
       "    <tr>\n",
       "      <th>137</th>\n",
       "      <td>Spain</td>\n",
       "      <td>119</td>\n",
       "    </tr>\n",
       "    <tr>\n",
       "      <th>73</th>\n",
       "      <td>Japan</td>\n",
       "      <td>115</td>\n",
       "    </tr>\n",
       "    <tr>\n",
       "      <th>53</th>\n",
       "      <td>France</td>\n",
       "      <td>114</td>\n",
       "    </tr>\n",
       "    <tr>\n",
       "      <th>122</th>\n",
       "      <td>Russia</td>\n",
       "      <td>110</td>\n",
       "    </tr>\n",
       "    <tr>\n",
       "      <th>134</th>\n",
       "      <td>Somalia</td>\n",
       "      <td>101</td>\n",
       "    </tr>\n",
       "  </tbody>\n",
       "</table>\n",
       "</div>"
      ],
      "text/plain": [
       "     country  zero_high_quality_counts\n",
       "109  Nigeria                       240\n",
       "119   Poland                       152\n",
       "67     India                       151\n",
       "72     Italy                       146\n",
       "76     Kenya                       122\n",
       "137    Spain                       119\n",
       "73     Japan                       115\n",
       "53    France                       114\n",
       "122   Russia                       110\n",
       "134  Somalia                       101"
      ]
     },
     "execution_count": 321,
     "metadata": {},
     "output_type": "execute_result"
    }
   ],
   "source": [
    "cleaned_df[~cleaned_df['article_quality'].isin(['FA', 'GA'])].groupby(\"country\").size().reset_index(name = \"zero_high_quality_counts\").sort_values(by='zero_high_quality_counts', ascending=False).head(10)"
   ]
  },
  {
   "cell_type": "markdown",
   "metadata": {},
   "source": [
    "### Regions by coverage (Total articles per capita)"
   ]
  },
  {
   "cell_type": "code",
   "execution_count": 311,
   "metadata": {},
   "outputs": [],
   "source": [
    "article_counts = cleaned_df.groupby(\"region\").size().reset_index(name = \"article_counts_by_region\")\n",
    "region_population = cleaned_df[['region', 'population']].drop_duplicates().groupby(\"region\", as_index=False).agg({\"population\": \"sum\"})\n",
    "article_counts_by_region = pd.merge(article_counts, region_population, on='region')\n",
    "article_counts_by_region['total_articles_per_capita - Region (million people)'] = article_counts_by_region['article_counts_by_region'] / article_counts_by_region['population']"
   ]
  },
  {
   "cell_type": "code",
   "execution_count": 318,
   "metadata": {},
   "outputs": [
    {
     "name": "stdout",
     "output_type": "stream",
     "text": [
      " Rank          region  article_counts_by_region  population  total_articles_per_capita - Region (million people)\n",
      "    1 NORTHERN EUROPE                       191        27.8                                             6.870504\n",
      "    2         OCEANIA                        72        10.9                                             6.605505\n",
      "    3       CARIBBEAN                       219        36.3                                             6.033058\n",
      "    4 SOUTHERN EUROPE                       797       150.9                                             5.281643\n",
      "    5 CENTRAL AMERICA                       188        51.3                                             3.664717\n",
      "    6  WESTERN EUROPE                       498       181.3                                             2.746828\n",
      "    7  EASTERN EUROPE                       709       266.2                                             2.663411\n",
      "    8    WESTERN ASIA                       610       295.4                                             2.064997\n",
      "    9 SOUTHERN AFRICA                       123        68.3                                             1.800878\n",
      "   10  EASTERN AFRICA                       665       480.9                                             1.382824\n",
      "   11   SOUTH AMERICA                       569       425.0                                             1.338824\n",
      "   12    CENTRAL ASIA                       106        80.4                                             1.318408\n",
      "   13  WESTERN AFRICA                       523       442.3                                             1.182455\n",
      "   14 NORTHERN AFRICA                       302       255.9                                             1.180148\n",
      "   15   MIDDLE AFRICA                       231       201.8                                             1.144698\n",
      "   16  SOUTHEAST ASIA                       396       564.1                                             0.702003\n",
      "   17      SOUTH ASIA                       670      2029.2                                             0.330179\n",
      "   18       EAST ASIA                       286      1640.3                                             0.174358\n"
     ]
    }
   ],
   "source": [
    "top_regions_by_coverage = article_counts_by_region.sort_values(by='total_articles_per_capita - Region (million people)', ascending=False)\n",
    "top_regions_by_coverage['Rank'] = top_regions_by_coverage['total_articles_per_capita - Region (million people)'].rank(ascending=False).astype(int)\n",
    "top_regions_by_coverage = top_regions_by_coverage[['Rank'] + [col for col in top_regions_by_coverage.columns if col != 'Rank']]\n",
    "print(top_regions_by_coverage.to_string(index=False))"
   ]
  },
  {
   "cell_type": "markdown",
   "metadata": {},
   "source": [
    "### Regions by high-quality article counts (Total articles per capita)"
   ]
  },
  {
   "cell_type": "code",
   "execution_count": 323,
   "metadata": {},
   "outputs": [],
   "source": [
    "hq_article_counts = cleaned_df[cleaned_df['article_quality'].isin(['FA', 'GA'])].groupby(\"region\").size().reset_index(name = \"high_quality_article_counts_by_region\")\n",
    "hq_article_counts_by_region = pd.merge(hq_article_counts, region_population, on='region')\n",
    "hq_article_counts_by_region['high_quality_articles_per_capita - Region (million people)'] = hq_article_counts_by_region['high_quality_article_counts_by_region'] / hq_article_counts_by_region['population']"
   ]
  },
  {
   "cell_type": "code",
   "execution_count": 325,
   "metadata": {},
   "outputs": [
    {
     "name": "stdout",
     "output_type": "stream",
     "text": [
      " Rank          region  high_quality_article_counts_by_region  population  high_quality_articles_per_capita - Region (million people)\n",
      "    1 SOUTHERN EUROPE                                     53       150.9                                                    0.351226\n",
      "    2 NORTHERN EUROPE                                      9        27.8                                                    0.323741\n",
      "    3       CARIBBEAN                                      9        36.3                                                    0.247934\n",
      "    4 CENTRAL AMERICA                                     10        51.3                                                    0.194932\n",
      "    5  EASTERN EUROPE                                     38       266.2                                                    0.142750\n",
      "    6 SOUTHERN AFRICA                                      8        68.3                                                    0.117130\n",
      "    7  WESTERN EUROPE                                     21       181.3                                                    0.115830\n",
      "    8         OCEANIA                                      1        10.9                                                    0.091743\n",
      "    9    WESTERN ASIA                                     27       295.4                                                    0.091401\n",
      "   10 NORTHERN AFRICA                                     17       255.9                                                    0.066432\n",
      "   11    CENTRAL ASIA                                      5        80.4                                                    0.062189\n",
      "   12   SOUTH AMERICA                                     19       425.0                                                    0.044706\n",
      "   13  SOUTHEAST ASIA                                     25       564.1                                                    0.044318\n",
      "   14   MIDDLE AFRICA                                      8       201.8                                                    0.039643\n",
      "   15  EASTERN AFRICA                                     17       480.9                                                    0.035350\n",
      "   16  WESTERN AFRICA                                     13       442.3                                                    0.029392\n",
      "   17      SOUTH ASIA                                     21      2029.2                                                    0.010349\n",
      "   18       EAST ASIA                                     16      1640.3                                                    0.009754\n"
     ]
    }
   ],
   "source": [
    "top_regions_by_hq = hq_article_counts_by_region.sort_values(by='high_quality_articles_per_capita - Region (million people)', ascending=False)\n",
    "top_regions_by_hq['Rank'] = top_regions_by_hq['high_quality_articles_per_capita - Region (million people)'].rank(ascending=False).astype(int)\n",
    "top_regions_by_hq = top_regions_by_hq[['Rank'] + [col for col in top_regions_by_hq.columns if col != 'Rank']]\n",
    "print(top_regions_by_hq.to_string(index=False))"
   ]
  },
  {
   "cell_type": "markdown",
   "metadata": {},
   "source": [
    "## DATA 512 -  Homework 2: Considering Bias in Data\n",
    "\n",
    "### Goal of the project\n",
    "The goal of this assignment is to explore the concept of bias in data using Wikipedia articles. It will focus on articles about political figures from various countries, analyzing potential biases in the data obtained from internet sources like Wikipedia, particularly in relation to regional disparities or underrepresentation. The objective is to examine the correlation between the number of articles about politicians, the percentage of high-quality articles, and the population of each country. Through this analysis, we aim to identify any underlying biases in the data and address key questions, such as whether internet articles and content are reliable and unbiased sources for data analysis.\n",
    "\n",
    "### License\n",
    "This project is developed and distributed under the [MIT LICENSE](https://opensource.org/licenses/MIT), ensuring flexibility and openness for users and contributors. It allows anyone to use, modify, and distribute the code with minimal restrictions.\n",
    "Under the MIT License, you are permitted to freely use the software for any purpose, but it comes with no warranty. The only requirement is that the original license and copyright notice must be included in any copies or substantial portions of the software.\n",
    "\n",
    "### Process flow:\n",
    "#### 1. Data Acquisition:\n",
    "The data retrieval beings with two input files `politicians_by_country_AUG.2024.csv` which is obtained by scarping the Wikipedia [Category:Politicians by nationality](https://en.wikipedia.org/wiki/Category:Politicians_by_nationality)  to generate a list of Wikipedia article pages about politicians from a wide range of countries, and the `population_by_country_AUG.2024.csv` downloaded from the [world population data sheet](https://www.prb.org/international/indicator/population/table/) published by the Population Reference Bureau.\n",
    "\n",
    "\n"
   ]
  }
 ],
 "metadata": {
  "kernelspec": {
   "display_name": "devenv",
   "language": "python",
   "name": "python3"
  },
  "language_info": {
   "codemirror_mode": {
    "name": "ipython",
    "version": 3
   },
   "file_extension": ".py",
   "mimetype": "text/x-python",
   "name": "python",
   "nbconvert_exporter": "python",
   "pygments_lexer": "ipython3",
   "version": "3.11.5"
  }
 },
 "nbformat": 4,
 "nbformat_minor": 2
}
